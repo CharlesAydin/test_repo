{
 "cells": [
  {
   "cell_type": "markdown",
   "metadata": {},
   "source": [
    "<div class=\"alert alert-block alert-warning\">\n",
    "\n",
    "<img src=\"http://www.rocketsoftware.com/sites/all/themes/rocketon/logo.png\" align='top' height=200 width=400>\n",
    "\n",
    "<br><br>\n",
    "\n",
    "<h1><center>Possible Data Science Applications for Big Industry Mainframe Data</center></h1>\n",
    "\n",
    "<span style=\"color:#3357A6; font-family: 'DejaVu Sans Mono';font-size: 14pt; font-weight: bold\">Charles Aydin<br>\n",
    "Sr. Lab Services Engineer / Data Scientist<br>\n",
    "caydin@rocketsoftware.com<br>\n",
    "+1 781 577 4445 </span>\n",
    "\n",
    "</div>"
   ]
  },
  {
   "cell_type": "markdown",
   "metadata": {},
   "source": [
    "<html>\n",
    "<body>\n",
    "\n",
    "<h2>Objective</h2>\n",
    "<br>\n",
    "<span style=\"color:#1C2833; font-family: 'DejaVu Sans Mono';font-size: 13pt\">\n",
    "Find large datasets in the following industries / domains:<br>\n",
    "    <ul style=\"list-style-type:disc\">\n",
    "        <li>Insurance</li><br>\n",
    "        <li>Banking</li><br>\n",
    "        <li>Health</li><br>\n",
    "        <li>Government</li><br>\n",
    "     </ul>\n",
    "</span>\n",
    "</body>\n",
    "</html>"
   ]
  },
  {
   "cell_type": "markdown",
   "metadata": {},
   "source": [
    "### Scraping job listings from Indeed.com"
   ]
  },
  {
   "cell_type": "code",
   "execution_count": null,
   "metadata": {
    "collapsed": true
   },
   "outputs": [],
   "source": []
  }
 ],
 "metadata": {
  "kernelspec": {
   "display_name": "Python 3",
   "language": "python",
   "name": "python3"
  },
  "language_info": {
   "codemirror_mode": {
    "name": "ipython",
    "version": 3
   },
   "file_extension": ".py",
   "mimetype": "text/x-python",
   "name": "python",
   "nbconvert_exporter": "python",
   "pygments_lexer": "ipython3",
   "version": "3.6.1"
  }
 },
 "nbformat": 4,
 "nbformat_minor": 2
}
