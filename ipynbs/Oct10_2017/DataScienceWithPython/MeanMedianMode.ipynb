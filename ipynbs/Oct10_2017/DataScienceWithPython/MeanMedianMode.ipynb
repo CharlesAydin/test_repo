{
 "cells": [
  {
   "cell_type": "markdown",
   "metadata": {},
   "source": [
    "# Mean, Median, Mode, and introducing NumPy"
   ]
  },
  {
   "cell_type": "markdown",
   "metadata": {},
   "source": [
    "## Mean vs. Median"
   ]
  },
  {
   "cell_type": "markdown",
   "metadata": {},
   "source": [
    "Let's create some fake income data, centered around 27,000 with a normal distribution and standard deviation of 15,000, with 10,000 data points. (We'll discuss those terms more later, if you're not familiar with them.)\n",
    "\n",
    "Then, compute the mean (average) - it should be close to 27,000:"
   ]
  },
  {
   "cell_type": "code",
   "execution_count": 2,
   "metadata": {
    "collapsed": false
   },
   "outputs": [
    {
     "data": {
      "text/plain": [
       "26800.482397355074"
      ]
     },
     "execution_count": 2,
     "metadata": {},
     "output_type": "execute_result"
    }
   ],
   "source": [
    "import numpy as np\n",
    "\n",
    "incomes = np.random.normal(27000, 15000, 10000)\n",
    "np.mean(incomes)"
   ]
  },
  {
   "cell_type": "markdown",
   "metadata": {},
   "source": [
    "We can segment the income data into 50 buckets, and plot it as a histogram:"
   ]
  },
  {
   "cell_type": "code",
   "execution_count": 3,
   "metadata": {
    "collapsed": false
   },
   "outputs": [
    {
     "data": {
      "image/png": "[encoded data removed]",
      "text/plain": [
       "<matplotlib.figure.Figure at 0x10b09f128>"
      ]
     },
     "metadata": {},
     "output_type": "display_data"
    }
   ],
   "source": [
    "%matplotlib inline\n",
    "import matplotlib.pyplot as plt\n",
    "plt.hist(incomes, 50)\n",
    "plt.show()"
   ]
  },
  {
   "cell_type": "markdown",
   "metadata": {},
   "source": [
    "Now compute the median - since we have a nice, even distribution it too should be close to 27,000:"
   ]
  },
  {
   "cell_type": "code",
   "execution_count": 4,
   "metadata": {
    "collapsed": false
   },
   "outputs": [
    {
     "data": {
      "text/plain": [
       "26566.194464816472"
      ]
     },
     "execution_count": 4,
     "metadata": {},
     "output_type": "execute_result"
    }
   ],
   "source": [
    "np.median(incomes)"
   ]
  },
  {
   "cell_type": "markdown",
   "metadata": {},
   "source": [
    "Now we'll add Donald Trump into the mix. Darn income inequality!"
   ]
  },
  {
   "cell_type": "code",
   "execution_count": 5,
   "metadata": {
    "collapsed": false
   },
   "outputs": [],
   "source": [
    "incomes = np.append(incomes, [1000000000])"
   ]
  },
  {
   "cell_type": "markdown",
   "metadata": {},
   "source": [
    "The median won't change much, but the mean does:"
   ]
  },
  {
   "cell_type": "code",
   "execution_count": 6,
   "metadata": {
    "collapsed": false
   },
   "outputs": [
    {
     "data": {
      "text/plain": [
       "26569.003155445287"
      ]
     },
     "execution_count": 6,
     "metadata": {},
     "output_type": "execute_result"
    }
   ],
   "source": [
    "np.median(incomes)"
   ]
  },
  {
   "cell_type": "code",
   "execution_count": 7,
   "metadata": {
    "collapsed": false
   },
   "outputs": [
    {
     "data": {
      "text/plain": [
       "126787.80361699338"
      ]
     },
     "execution_count": 7,
     "metadata": {},
     "output_type": "execute_result"
    }
   ],
   "source": [
    "np.mean(incomes)"
   ]
  },
  {
   "cell_type": "markdown",
   "metadata": {},
   "source": [
    "## Mode"
   ]
  },
  {
   "cell_type": "markdown",
   "metadata": {},
   "source": [
    "Next, let's generate some fake age data for 500 people:"
   ]
  },
  {
   "cell_type": "code",
   "execution_count": 15,
   "metadata": {
    "collapsed": false
   },
   "outputs": [
    {
     "data": {
      "text/plain": [
       "array([85, 66, 42, 67, 37, 53, 24, 65, 20, 69, 87, 49, 52, 49, 78, 28, 86,\n",
       "       72, 30, 28, 61, 80, 63, 27, 32, 74, 45, 25, 74, 74, 42, 36, 61, 36,\n",
       "       21, 67, 66, 71, 66, 87, 20, 75, 65, 55, 65, 26, 21, 76, 46, 39, 31,\n",
       "       42, 27, 39, 29, 78, 86, 66, 52, 30, 73, 35, 73, 25, 73, 46, 85, 63,\n",
       "       28, 64, 83, 59, 46, 47, 50, 42, 28, 22, 78, 73, 42, 43, 52, 41, 43,\n",
       "       50, 29, 61, 49, 59, 56, 26, 88, 53, 48, 88, 58, 32, 32, 27, 48, 31,\n",
       "       66, 49, 73, 22, 49, 59, 61, 69, 61, 78, 78, 62, 47, 82, 36, 88, 59,\n",
       "       78, 77, 19, 43, 59, 80, 62, 56, 51, 72, 63, 36, 26, 61, 50, 66, 65,\n",
       "       46, 46, 72, 63, 73, 71, 54, 75, 40, 69, 78, 32, 39, 87, 82, 53, 88,\n",
       "       53, 70, 28, 27, 35, 56, 50, 40, 36, 36, 84, 80, 69, 22, 20, 72, 32,\n",
       "       78, 61, 53, 83, 62, 50, 48, 87, 35, 52, 80, 29, 44, 48, 50, 73, 37,\n",
       "       44, 46, 50, 38, 31, 34, 83, 58, 26, 69, 35, 19, 51, 40, 44, 44, 70,\n",
       "       65, 52, 27, 83, 18, 59, 35, 35, 81, 46, 58, 85, 56, 68, 67, 48, 88,\n",
       "       88, 26, 82, 65, 61, 54, 78, 43, 41, 23, 42, 54, 35, 25, 24, 42, 60,\n",
       "       80, 38, 74, 32, 42, 51, 80, 83, 30, 86, 28, 53, 60, 32, 20, 23, 56,\n",
       "       31, 32, 21, 39, 62, 82, 52, 47, 51, 24, 61, 59, 28, 87, 25, 46, 71,\n",
       "       49, 70, 60, 74, 55, 52, 74, 63, 77, 79, 25, 21, 30, 56, 40, 40, 33,\n",
       "       20, 70, 81, 74, 36, 54, 29, 49, 49, 84, 77, 24, 38, 30, 72, 25, 39,\n",
       "       28, 60, 61, 64, 57, 82, 73, 30, 26, 52, 84, 41, 20, 46, 23, 37, 61,\n",
       "       29, 61, 77, 62, 53, 46, 19, 81, 53, 66, 53, 20, 78, 20, 82, 45, 47,\n",
       "       88, 68, 61, 28, 52, 58, 44, 49, 39, 39, 82, 62, 80, 69, 81, 52, 23,\n",
       "       61, 54, 48, 64, 88, 35, 27, 33, 81, 71, 84, 71, 78, 63, 61, 24, 63,\n",
       "       89, 33, 27, 28, 22, 24, 83, 60, 70, 32, 69, 29, 57, 28, 79, 35, 28,\n",
       "       88, 61, 45, 64, 45, 39, 67, 20, 53, 48, 56, 71, 52, 47, 80, 80, 73,\n",
       "       78, 65, 32, 87, 50, 71, 89, 37, 47, 28, 22, 46, 29, 82, 75, 86, 40,\n",
       "       57, 27, 58, 66, 73, 60, 27, 61, 61, 48, 39, 37, 62, 18, 28, 88, 31,\n",
       "       22, 40, 29, 68, 22, 40, 41, 69, 36, 67, 34, 65, 75, 28, 27, 54, 60,\n",
       "       41, 34, 60, 36, 85, 26, 69, 57, 43, 50, 79, 56, 70, 42, 58, 54, 87,\n",
       "       57, 87, 47, 36, 61, 80, 79, 23, 21, 31, 48, 19, 88, 23, 23, 73, 76,\n",
       "       87, 22, 71, 88, 51, 52, 42])"
      ]
     },
     "execution_count": 15,
     "metadata": {},
     "output_type": "execute_result"
    }
   ],
   "source": [
    "ages = np.random.randint(18, high=90, size=500)\n",
    "ages"
   ]
  },
  {
   "cell_type": "code",
   "execution_count": 9,
   "metadata": {
    "collapsed": false
   },
   "outputs": [],
   "source": [
    "from scipy import stats"
   ]
  },
  {
   "cell_type": "code",
   "execution_count": 16,
   "metadata": {
    "collapsed": false
   },
   "outputs": [
    {
     "data": {
      "text/plain": [
       "ModeResult(mode=array([61]), count=array([19]))"
      ]
     },
     "execution_count": 16,
     "metadata": {},
     "output_type": "execute_result"
    }
   ],
   "source": [
    "stats.mode(ages)"
   ]
  },
  {
   "cell_type": "code",
   "execution_count": null,
   "metadata": {
    "collapsed": true
   },
   "outputs": [],
   "source": []
  }
 ],
 "metadata": {
  "kernelspec": {
   "display_name": "Python 3",
   "language": "python",
   "name": "python3"
  },
  "language_info": {
   "codemirror_mode": {
    "name": "ipython",
    "version": 3
   },
   "file_extension": ".py",
   "mimetype": "text/x-python",
   "name": "python",
   "nbconvert_exporter": "python",
   "pygments_lexer": "ipython3",
   "version": "3.4.4"
  }
 },
 "nbformat": 4,
 "nbformat_minor": 0
}
