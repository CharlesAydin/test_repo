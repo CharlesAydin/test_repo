{
 "cells": [
  {
   "cell_type": "markdown",
   "metadata": {},
   "source": [
    "# Naive Bayes (the easy way)"
   ]
  },
  {
   "cell_type": "markdown",
   "metadata": {},
   "source": [
    "We'll cheat by using sklearn.naive_bayes to train a spam classifier! Most of the code is just loading our training data into a pandas DataFrame that we can play with:"
   ]
  },
  {
   "cell_type": "code",
   "execution_count": 1,
   "metadata": {
    "collapsed": false
   },
   "outputs": [],
   "source": [
    "import os\n",
    "import io\n",
    "import numpy\n",
    "from pandas import DataFrame\n",
    "from sklearn.feature_extraction.text import CountVectorizer\n",
    "from sklearn.naive_bayes import MultinomialNB\n",
    "\n",
    "def readFiles(path):\n",
    "    for root, dirnames, filenames in os.walk(path):\n",
    "        for filename in filenames:\n",
    "            path = os.path.join(root, filename)\n",
    "\n",
    "            inBody = False\n",
    "            lines = []\n",
    "            f = io.open(path, 'r', encoding='latin1')\n",
    "            for line in f:\n",
    "                if inBody:\n",
    "                    lines.append(line)\n",
    "                elif line == '\\n':\n",
    "                    inBody = True\n",
    "            f.close()\n",
    "            message = '\\n'.join(lines)\n",
    "            yield path, message\n",
    "\n",
    "\n",
    "def dataFrameFromDirectory(path, classification):\n",
    "    rows = []\n",
    "    index = []\n",
    "    for filename, message in readFiles(path):\n",
    "        rows.append({'message': message, 'class': classification})\n",
    "        index.append(filename)\n",
    "\n",
    "    return DataFrame(rows, index=index)\n",
    "\n",
    "data = DataFrame({'message': [], 'class': []})\n",
    "\n",
    "data = data.append(dataFrameFromDirectory('/Users/Chachi/Desktop/MISC/Professional/DataScienceWithPython-Udemy/DataScience/emails/spam', 'spam'))\n",
    "data = data.append(dataFrameFromDirectory('/Users/Chachi/Desktop/MISC/Professional/DataScienceWithPython-Udemy/DataScience/emails/ham', 'ham'))\n"
   ]
  },
  {
   "cell_type": "markdown",
   "metadata": {},
   "source": [
    "Let's have a look at that DataFrame:"
   ]
  },
  {
   "cell_type": "code",
   "execution_count": null,
   "metadata": {
    "collapsed": false
   },
   "outputs": [],
   "source": []
  },
  {
   "cell_type": "code",
   "execution_count": 2,
   "metadata": {
    "collapsed": false
   },
   "outputs": [
    {
     "data": {
      "text/html": [
       "<div>\n",
       "<table border=\"1\" class=\"dataframe\">\n",
       "  <thead>\n",
       "    <tr style=\"text-align: right;\">\n",
       "      <th></th>\n",
       "      <th>class</th>\n",
       "      <th>message</th>\n",
       "    </tr>\n",
       "  </thead>\n",
       "  <tbody>\n",
       "    <tr>\n",
       "      <th>/Users/Chachi/Desktop/MISC/Professional/DataScienceWithPython-Udemy/DataScience/emails/spam/00001.7848dde101aa985090474a91ec93fcf0</th>\n",
       "      <td>spam</td>\n",
       "      <td>&lt;!DOCTYPE HTML PUBLIC \"-//W3C//DTD HTML 4.0 Tr...</td>\n",
       "    </tr>\n",
       "    <tr>\n",
       "      <th>/Users/Chachi/Desktop/MISC/Professional/DataScienceWithPython-Udemy/DataScience/emails/spam/00002.d94f1b97e48ed3b553b3508d116e6a09</th>\n",
       "      <td>spam</td>\n",
       "      <td>1) Fight The Risk of Cancer!\\n\\nhttp://www.adc...</td>\n",
       "    </tr>\n",
       "    <tr>\n",
       "      <th>/Users/Chachi/Desktop/MISC/Professional/DataScienceWithPython-Udemy/DataScience/emails/spam/00003.2ee33bc6eacdb11f38d052c44819ba6c</th>\n",
       "      <td>spam</td>\n",
       "      <td>1) Fight The Risk of Cancer!\\n\\nhttp://www.adc...</td>\n",
       "    </tr>\n",
       "    <tr>\n",
       "      <th>/Users/Chachi/Desktop/MISC/Professional/DataScienceWithPython-Udemy/DataScience/emails/spam/00004.eac8de8d759b7e74154f142194282724</th>\n",
       "      <td>spam</td>\n",
       "      <td>##############################################...</td>\n",
       "    </tr>\n",
       "    <tr>\n",
       "      <th>/Users/Chachi/Desktop/MISC/Professional/DataScienceWithPython-Udemy/DataScience/emails/spam/00005.57696a39d7d84318ce497886896bf90d</th>\n",
       "      <td>spam</td>\n",
       "      <td>I thought you might like these:\\n\\n1) Slim Dow...</td>\n",
       "    </tr>\n",
       "  </tbody>\n",
       "</table>\n",
       "</div>"
      ],
      "text/plain": [
       "                                                   class  \\\n",
       "/Users/Chachi/Desktop/MISC/Professional/DataSci...  spam   \n",
       "/Users/Chachi/Desktop/MISC/Professional/DataSci...  spam   \n",
       "/Users/Chachi/Desktop/MISC/Professional/DataSci...  spam   \n",
       "/Users/Chachi/Desktop/MISC/Professional/DataSci...  spam   \n",
       "/Users/Chachi/Desktop/MISC/Professional/DataSci...  spam   \n",
       "\n",
       "                                                                                              message  \n",
       "/Users/Chachi/Desktop/MISC/Professional/DataSci...  <!DOCTYPE HTML PUBLIC \"-//W3C//DTD HTML 4.0 Tr...  \n",
       "/Users/Chachi/Desktop/MISC/Professional/DataSci...  1) Fight The Risk of Cancer!\\n\\nhttp://www.adc...  \n",
       "/Users/Chachi/Desktop/MISC/Professional/DataSci...  1) Fight The Risk of Cancer!\\n\\nhttp://www.adc...  \n",
       "/Users/Chachi/Desktop/MISC/Professional/DataSci...  ##############################################...  \n",
       "/Users/Chachi/Desktop/MISC/Professional/DataSci...  I thought you might like these:\\n\\n1) Slim Dow...  "
      ]
     },
     "execution_count": 2,
     "metadata": {},
     "output_type": "execute_result"
    }
   ],
   "source": [
    "data.head()"
   ]
  },
  {
   "cell_type": "markdown",
   "metadata": {},
   "source": [
    "Now we will use a CountVectorizer to split up each message into its list of words, and throw that into a MultinomialNB classifier. Call fit() and we've got a trained spam filter ready to go! It's just that easy."
   ]
  },
  {
   "cell_type": "code",
   "execution_count": 6,
   "metadata": {
    "collapsed": false
   },
   "outputs": [
    {
     "data": {
      "text/plain": [
       "MultinomialNB(alpha=1.0, class_prior=None, fit_prior=True)"
      ]
     },
     "execution_count": 6,
     "metadata": {},
     "output_type": "execute_result"
    }
   ],
   "source": [
    "vectorizer = CountVectorizer()\n",
    "counts = vectorizer.fit_transform(data['message'].values)\n",
    "\n",
    "classifier = MultinomialNB()\n",
    "targets = data['class'].values\n",
    "classifier.fit(counts, targets)"
   ]
  },
  {
   "cell_type": "markdown",
   "metadata": {},
   "source": [
    "Let's try it out:"
   ]
  },
  {
   "cell_type": "code",
   "execution_count": 8,
   "metadata": {
    "collapsed": false
   },
   "outputs": [
    {
     "name": "stdout",
     "output_type": "stream",
     "text": [
      "  (0, 20407)\t1\n",
      "  (0, 28844)\t5\n",
      "  (0, 44554)\t1\n",
      "  (0, 57486)\t1\n",
      "  (0, 21111)\t1\n",
      "  (0, 54131)\t1\n",
      "  (0, 22319)\t1\n",
      "  (0, 27856)\t2\n",
      "  (0, 36946)\t2\n",
      "  (0, 17466)\t2\n",
      "  (0, 3669)\t28\n",
      "  (0, 53112)\t1\n",
      "  (0, 15912)\t1\n",
      "  (0, 3865)\t1\n",
      "  (0, 1193)\t1\n",
      "  (0, 28855)\t2\n",
      "  (0, 22714)\t1\n",
      "  (0, 3777)\t1\n",
      "  (0, 60830)\t1\n",
      "  (0, 38010)\t1\n",
      "  (0, 0)\t1\n",
      "  (0, 2507)\t1\n",
      "  (0, 878)\t1\n",
      "  (0, 38606)\t1\n",
      "  (0, 3793)\t1\n",
      "  :\t:\n",
      "  (2999, 46468)\t2\n",
      "  (2999, 59145)\t1\n",
      "  (2999, 13966)\t1\n",
      "  (2999, 43537)\t2\n",
      "  (2999, 51993)\t2\n",
      "  (2999, 51125)\t1\n",
      "  (2999, 52000)\t1\n",
      "  (2999, 19003)\t1\n",
      "  (2999, 19930)\t1\n",
      "  (2999, 25894)\t1\n",
      "  (2999, 44095)\t3\n",
      "  (2999, 44115)\t1\n",
      "  (2999, 19929)\t1\n",
      "  (2999, 27117)\t1\n",
      "  (2999, 19932)\t1\n",
      "  (2999, 20051)\t1\n",
      "  (2999, 13397)\t2\n",
      "  (2999, 19778)\t1\n",
      "  (2999, 25157)\t1\n",
      "  (2999, 46316)\t1\n",
      "  (2999, 30662)\t2\n",
      "  (2999, 3103)\t1\n",
      "  (2999, 26274)\t1\n",
      "  (2999, 43488)\t1\n",
      "  (2999, 8396)\t1\n"
     ]
    }
   ],
   "source": [
    "print(counts)"
   ]
  },
  {
   "cell_type": "code",
   "execution_count": 4,
   "metadata": {
    "collapsed": false
   },
   "outputs": [
    {
     "data": {
      "text/plain": [
       "array(['spam', 'ham'], \n",
       "      dtype='|S4')"
      ]
     },
     "execution_count": 4,
     "metadata": {},
     "output_type": "execute_result"
    }
   ],
   "source": [
    "examples = ['Free Viagra now!!!', \"Hi Bob, how about a game of golf tomorrow?\"]\n",
    "example_counts = vectorizer.transform(examples)\n",
    "predictions = classifier.predict(example_counts)\n",
    "predictions"
   ]
  },
  {
   "cell_type": "markdown",
   "metadata": {},
   "source": [
    "## Activity"
   ]
  },
  {
   "cell_type": "markdown",
   "metadata": {},
   "source": [
    "Our data set is small, so our spam classifier isn't actually very good. Try running some different test emails through it and see if you get the results you expect.\n",
    "\n",
    "If you really want to challenge yourself, try applying train/test to this spam classifier - see how well it can predict some subset of the ham and spam emails."
   ]
  },
  {
   "cell_type": "code",
   "execution_count": null,
   "metadata": {
    "collapsed": false
   },
   "outputs": [],
   "source": []
  }
 ],
 "metadata": {
  "kernelspec": {
   "display_name": "Python 3",
   "language": "python",
   "name": "python3"
  },
  "language_info": {
   "codemirror_mode": {
    "name": "ipython",
    "version": 3
   },
   "file_extension": ".py",
   "mimetype": "text/x-python",
   "name": "python",
   "nbconvert_exporter": "python",
   "pygments_lexer": "ipython3",
   "version": "3.4.4"
  }
 },
 "nbformat": 4,
 "nbformat_minor": 0
}
