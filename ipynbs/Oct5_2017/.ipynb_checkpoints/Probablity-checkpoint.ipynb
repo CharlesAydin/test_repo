{
 "cells": [
  {
   "cell_type": "markdown",
   "metadata": {},
   "source": [
    "<div class=\"row\">\n",
    "<div class=\"col-xs-12 col-sm-10 col-sm-offset-1 col-md-8 col-md-offset-2\">\n",
    "<form class=\"form-horizontal\" role=\"form\" id=\"challengeForm\" method=\"POST\" action=\"/challengeSubmit\">\n",
    "<div class=\"row mt15\">\n",
    "<div class=\"col-xs-12\">\n",
    "<p>We repeatedly toss a biased coin with probability 0.6 of landing on Heads (H) and probability 0.4 of landing on Tails (T). Within this sequence of heads and tails, a group is a maximal sequence of consecutive tosses that land on the same side. For instance, the groups of HTTTHTHTT are:</p>\n",
    "\n",
    "<pre>(H)(TTT)(H)(T)(H)(TT)</pre>\n",
    "\n",
    "<p>For each of these problems, please give the answer to 10 digits of significance.</p>\n",
    "</div>\n",
    "</div>\n",
    "<div class=\"mt15 row\"><div class=\"col-xs-12 col-sm-6\"><div class=\"row form-group\">"
   ]
  },
  {
   "cell_type": "markdown",
   "metadata": {},
   "source": [
    "<html>\n",
    "\n",
    "\n",
    "<body>\n",
    "<div class=\"col-xs-12\">\n",
    "    <label for=\"consecutiveCoinMean10\" class=\"control-label left-align\">\n",
    "      What is the expected number of groups after 10 tosses?\n",
    "      </label>\n",
    "  </div>\n",
    "  <div class=\"col-xs-12\">\n",
    "    <input type=\"text\" class=\"form-control\" id=\"consecutiveCoinMean10\" name=\"thisanswer\" maxlength=200 placeholder=\"5.319999999\" style=\"color: #DE2A00;\"\n",
    "/>\n",
    " \n",
    "\n",
    "    \n",
    "       <div class=\"error-text\" id=\"consecutiveCoinMean10-error-text\">\n",
    "    </div>\n",
    "  </div>\n",
    "\n",
    "</body>\n",
    "\n",
    "   <head>\n",
    "\n",
    "     <meta http-equiv=\"Content-Type\" content=\"text/html; charset=utf-8\">\n",
    "\n",
    "     <style type=\"text/css\">\n",
    "     #thisanswer::-webkit-input-placeholder\n",
    "     {\n",
    "     color:    #FF0000;\n",
    "     }\n",
    "     </style>\n",
    "\n",
    "  </head>\n",
    "</html>"
   ]
  },
  {
   "cell_type": "code",
   "execution_count": 1,
   "metadata": {
    "collapsed": false
   },
   "outputs": [
    {
     "data": {
      "text/plain": [
       "5.319999999999999"
      ]
     },
     "execution_count": 1,
     "metadata": {},
     "output_type": "execute_result"
    }
   ],
   "source": [
    "def expected_num_grp(p,N):\n",
    "    return 1+(N-1)*2*p*(1-p)*1.0\n",
    "expected_num_grp(0.6,10)"
   ]
  },
  {
   "cell_type": "markdown",
   "metadata": {},
   "source": [
    "<div class=\"col-xs-12 col-sm-6\">\n",
    "                <div class=\"row form-group\">\n",
    "  <div class=\"col-xs-12\">\n",
    "    <label for=\"consecutiveCoinMean500\" class=\"control-label left-align\">\n",
    "      What is the expected number of groups after 500 tosses?\n",
    "      </label>\n",
    "  </div>\n",
    "  <div class=\"col-xs-12\">\n",
    "    <input type=\"text\" class=\"form-control\" id=\"consecutiveCoinMean500\" name=\"consecutiveCoinMean500\" maxlength=200 placeholder=\"240.5199999\" />\n",
    "    <div class=\"error-text\" id=\"consecutiveCoinMean500-error-text\">\n",
    "    </div>\n",
    "  </div>\n",
    "</div>\n",
    "              </div>\n",
    "            </div>"
   ]
  },
  {
   "cell_type": "markdown",
   "metadata": {},
   "source": [
    "See below for the solution"
   ]
  },
  {
   "cell_type": "code",
   "execution_count": 2,
   "metadata": {
    "collapsed": false
   },
   "outputs": [
    {
     "data": {
      "text/plain": [
       "240.51999999999998"
      ]
     },
     "execution_count": 2,
     "metadata": {},
     "output_type": "execute_result"
    }
   ],
   "source": [
    "expected_num_grp(0.6,500)"
   ]
  },
  {
   "cell_type": "markdown",
   "metadata": {},
   "source": [
    "<div class=\"row\">\n",
    "              <div class=\"col-xs-12 col-sm-6\">\n",
    "                <div class=\"row form-group\">\n",
    "  <div class=\"col-xs-12\">\n",
    "    <label for=\"consecutiveCoinExceed10\" class=\"control-label left-align\">\n",
    "      What is the probability of (strictly) exceeding 6 groups after 10 tosses?\n",
    "      </label>\n",
    "  </div>\n",
    "  <div class=\"col-xs-12\">\n",
    "    <input type=\"text\" class=\"form-control\" id=\"consecutiveCoinExceed10\" name=\"consecutiveCoinExceed10\" maxlength=200 placeholder=\"0.226713600\" />\n",
    "    <div class=\"error-text\" id=\"consecutiveCoinExceed10-error-text\">\n",
    "    </div>\n",
    "  </div>\n",
    "</div>\n",
    "              </div>"
   ]
  },
  {
   "cell_type": "markdown",
   "metadata": {},
   "source": [
    "<div class=\"row\">\n",
    "              <div class=\"col-xs-12 col-sm-6\">\n",
    "                <div class=\"row form-group\">\n",
    "  <div class=\"col-xs-12\">\n",
    "    <label for=\"consecutiveCoinExceed10\" class=\"control-label left-align\">\n",
    "      What is the probability of (strictly) exceeding 250 groups after 500 tosses?\n",
    "      </label>\n",
    "  </div>\n",
    "  <div class=\"col-xs-12\">\n",
    "    <input type=\"text\" class=\"form-control\" id=\"consecutiveCoinExceed10\" name=\"consecutiveCoinExceed10\" maxlength=200 placeholder=\"0.194904803\" />\n",
    "    <div class=\"error-text\" id=\"consecutiveCoinExceed10-error-text\">\n",
    "    </div>\n",
    "  </div>\n",
    "</div>\n",
    "</div>\n",
    "</div>\n",
    "              \n",
    "See below for the solution"
   ]
  },
  {
   "cell_type": "code",
   "execution_count": 4,
   "metadata": {
    "collapsed": false
   },
   "outputs": [
    {
     "name": "stdout",
     "output_type": "stream",
     "text": [
      "The probability of having more than 6 runs in 10 coin flips with a biased probability of 0.6 is 0.226713600\n",
      "The probability of having more than 250 runs in 500 coin flips with a biased probability of 0.6 is 0.194904803\n",
      "Total performance test time: 10.530409\n"
     ]
    }
   ],
   "source": [
    "from scipy.special import comb as sComb\n",
    "from datetime import datetime\n",
    "\n",
    "start = datetime.now()\n",
    "\n",
    "def density_func(num_tosses,num_heads,num_groups):\n",
    "\n",
    "    if num_groups%2 == 0:\n",
    "        return 2 * sComb(num_heads-1,num_groups/2-1,exact=True) * \\\n",
    "    sComb(num_tosses-num_heads-1,num_groups/2-1,exact=True)\n",
    "    else:\n",
    "        return sComb(num_heads-1,(num_groups-1)/2-1,exact=True) * \\\n",
    "    sComb(num_tosses-num_heads-1,(num_groups+1)/2-1,exact=True) + \\\n",
    "    sComb(num_heads-1,(num_groups+1)/2-1,exact=True) * \\\n",
    "    sComb(num_tosses-num_heads-1,(num_groups-1)/2-1,exact=True)\n",
    "\n",
    "def prob_grps(num_tosses,num_groups,bias_prob):\n",
    "    \n",
    "    prob = 0\n",
    "    for k in range(num_groups+1,num_tosses+1):\n",
    "        for m in range(num_tosses+1):\n",
    "            prob_incr=density_func(num_tosses,m,k)*(bias_prob**m)*((1-bias_prob)**(num_tosses-m))\n",
    "            prob+=prob_incr\n",
    "    print(\"The probability of having more than {:d} runs in {:d} coin \\\n",
    "flips with a biased probability of {:.1f} is {:.9f}\".format(num_groups,num_tosses,bias_prob,prob))\n",
    "    return prob\n",
    "\n",
    "prob_grps(10,6,0.6)\n",
    "prob_grps(500,250,0.6)\n",
    "\n",
    "end = datetime.now()\n",
    "diff = end - start\n",
    "print('Total performance test time: {}'.format(diff.total_seconds()))"
   ]
  },
  {
   "cell_type": "code",
   "execution_count": null,
   "metadata": {
    "collapsed": true
   },
   "outputs": [],
   "source": []
  }
 ],
 "metadata": {
  "kernelspec": {
   "display_name": "Python 3",
   "language": "python",
   "name": "python3"
  },
  "language_info": {
   "codemirror_mode": {
    "name": "ipython",
    "version": 3
   },
   "file_extension": ".py",
   "mimetype": "text/x-python",
   "name": "python",
   "nbconvert_exporter": "python",
   "pygments_lexer": "ipython3",
   "version": "3.6.1"
  }
 },
 "nbformat": 4,
 "nbformat_minor": 2
}
